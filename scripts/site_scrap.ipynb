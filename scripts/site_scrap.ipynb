{
 "cells": [
  {
   "cell_type": "code",
   "execution_count": null,
   "metadata": {
    "ExecuteTime": {
     "end_time": "2016-09-11T23:34:56.318901",
     "start_time": "2016-09-11T23:34:55.614718"
    },
    "collapsed": true
   },
   "outputs": [],
   "source": [
    "import urllib2\n",
    "from bs4 import BeautifulSoup\n",
    "import urlparse\n",
    "import pandas as pd\n",
    "import time"
   ]
  },
  {
   "cell_type": "code",
   "execution_count": null,
   "metadata": {
    "ExecuteTime": {
     "end_time": "2016-09-11T23:34:56.336340",
     "start_time": "2016-09-11T23:34:56.321510"
    },
    "collapsed": true
   },
   "outputs": [],
   "source": [
    "#extract text and images features from an article\n",
    "def site_article_feature_extract(url):\n",
    "    page = urllib2.urlopen(url)\n",
    "    soup = BeautifulSoup(page)\n",
    "    \n",
    "    # kill all script elements\n",
    "    for script in soup(\"script\"):\n",
    "        script.extract()\n",
    "        \n",
    "    #extract features from page\n",
    "    page_content = soup.find_all('div', class_='block B3')[0]\n",
    "    features = {}\n",
    "    features['headline'] = page_content.find('div', class_='art_header_title').get_text()\n",
    "    features['sub_headline'] = page_content.find('div', class_='art_header_sub_title').get_text()\n",
    "    features['article_text'] = \" \".join([text.get_text().strip() for text in page_content.find_all('p')])\n",
    "    features['images'] = [x['src'] for x in page_content.find_all('img') if 'http://images' in x['src']]\n",
    "    \n",
    "    return features"
   ]
  },
  {
   "cell_type": "code",
   "execution_count": null,
   "metadata": {
    "ExecuteTime": {
     "end_time": "2016-09-11T23:34:56.343935",
     "start_time": "2016-09-11T23:34:56.339798"
    },
    "collapsed": true
   },
   "outputs": [],
   "source": [
    "#archive articles from Jan 2016\n",
    "site_url = '... complete here ..."
   ]
  },
  {
   "cell_type": "code",
   "execution_count": null,
   "metadata": {
    "ExecuteTime": {
     "end_time": "2016-09-11T23:34:57.752888",
     "start_time": "2016-09-11T23:34:56.347291"
    },
    "collapsed": false
   },
   "outputs": [],
   "source": [
    "page = urllib2.urlopen(site_url)\n",
    "soup = BeautifulSoup(page)"
   ]
  },
  {
   "cell_type": "code",
   "execution_count": null,
   "metadata": {
    "ExecuteTime": {
     "end_time": "2016-09-11T23:34:57.821177",
     "start_time": "2016-09-11T23:34:57.756031"
    },
    "collapsed": false
   },
   "outputs": [],
   "source": [
    "archive_page = soup.find_all('a', class_='smallheader') # articles in this site archive are called \"smallheader\"...\n",
    "article_urls = [urlparse.urljoin(\"http://www.hone....\", article.get('href')) for article in archive_page]"
   ]
  },
  {
   "cell_type": "code",
   "execution_count": null,
   "metadata": {
    "ExecuteTime": {
     "end_time": "2016-09-11T23:34:57.829544",
     "start_time": "2016-09-11T23:34:57.824375"
    },
    "collapsed": false
   },
   "outputs": [],
   "source": [
    "print article_urls[2]"
   ]
  },
  {
   "cell_type": "code",
   "execution_count": null,
   "metadata": {
    "ExecuteTime": {
     "end_time": "2016-09-11T23:41:37.385511",
     "start_time": "2016-09-11T23:34:57.833137"
    },
    "collapsed": false
   },
   "outputs": [],
   "source": [
    "#scrapping sites one by one and extracting features\n",
    "df_articles = pd.DataFrame(columns=['headline', 'sub_headline', 'article_text', 'images'])\n",
    "\n",
    "i=0\n",
    "for url in article_urls:\n",
    "    i+=1\n",
    "    print \"\\r extracting: %s , %d out of %d\" % (url, i, len(article_urls)),\n",
    "    time.sleep(1)\n",
    "    try:\n",
    "        df_articles.loc[len(df_articles)] = site_article_feature_extract(url)\n",
    "    except:\n",
    "        pass"
   ]
  },
  {
   "cell_type": "code",
   "execution_count": null,
   "metadata": {
    "ExecuteTime": {
     "end_time": "2016-09-11T23:41:37.413434",
     "start_time": "2016-09-11T23:41:37.388255"
    },
    "collapsed": false
   },
   "outputs": [],
   "source": [
    "df_articles.shape"
   ]
  },
  {
   "cell_type": "code",
   "execution_count": null,
   "metadata": {
    "ExecuteTime": {
     "end_time": "2016-09-11T23:41:37.472426",
     "start_time": "2016-09-11T23:41:37.416916"
    },
    "collapsed": false
   },
   "outputs": [],
   "source": [
    "df_articles.to_csv(r'../data/df_articles.csv', encoding='utf8', index=False)"
   ]
  },
  {
   "cell_type": "code",
   "execution_count": null,
   "metadata": {
    "ExecuteTime": {
     "end_time": "2016-09-11T23:41:37.484172",
     "start_time": "2016-09-11T23:41:37.475769"
    },
    "collapsed": false
   },
   "outputs": [],
   "source": [
    "df_articles['images'][96]"
   ]
  },
  {
   "cell_type": "code",
   "execution_count": null,
   "metadata": {
    "ExecuteTime": {
     "end_time": "2016-09-11T23:41:37.625992",
     "start_time": "2016-09-11T23:41:37.487461"
    },
    "collapsed": false
   },
   "outputs": [],
   "source": [
    "print df_articles.shape\n",
    "df_articles"
   ]
  },
  {
   "cell_type": "code",
   "execution_count": null,
   "metadata": {
    "collapsed": true
   },
   "outputs": [],
   "source": []
  }
 ],
 "metadata": {
  "kernelspec": {
   "display_name": "Python 2",
   "language": "python",
   "name": "python2"
  },
  "language_info": {
   "codemirror_mode": {
    "name": "ipython",
    "version": 2
   },
   "file_extension": ".py",
   "mimetype": "text/x-python",
   "name": "python",
   "nbconvert_exporter": "python",
   "pygments_lexer": "ipython2",
   "version": "2.7.12"
  }
 },
 "nbformat": 4,
 "nbformat_minor": 1
}
