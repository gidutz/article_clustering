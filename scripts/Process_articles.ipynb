{
 "cells": [
  {
   "cell_type": "code",
   "execution_count": 3,
   "metadata": {
    "ExecuteTime": {
     "end_time": "2016-09-11T23:42:10.271815",
     "start_time": "2016-09-11T23:42:10.262702"
    },
    "collapsed": true
   },
   "outputs": [],
   "source": [
    "import re\n",
    "import pandas as pd\n",
    "from sklearn.feature_extraction.text import TfidfVectorizer, CountVectorizer\n",
    "from sklearn.decomposition import TruncatedSVD\n",
    "from collections import Counter\n",
    "import matplotlib.pyplot as plt\n",
    "import numpy as np"
   ]
  },
  {
   "cell_type": "markdown",
   "metadata": {},
   "source": [
    "## Read the article table "
   ]
  },
  {
   "cell_type": "code",
   "execution_count": 7,
   "metadata": {
    "ExecuteTime": {
     "end_time": "2016-09-11T23:43:06.736151",
     "start_time": "2016-09-11T23:43:06.713519"
    },
    "collapsed": false
   },
   "outputs": [],
   "source": [
    "df_articles = pd.read_csv(r'../data/df_articles.csv', encoding='utf8')"
   ]
  },
  {
   "cell_type": "code",
   "execution_count": 8,
   "metadata": {
    "ExecuteTime": {
     "end_time": "2016-09-11T23:43:11.030961",
     "start_time": "2016-09-11T23:43:10.981556"
    },
    "collapsed": false
   },
   "outputs": [],
   "source": [
    "pattern = re.compile(\"http://[\\w\\d/\\.]+jpg\")\n",
    "for i in xrange(df_articles.shape[0]):\n",
    "    df_articles.loc[i]['images'] = re.findall(pattern, df_articles['images'][i])"
   ]
  },
  {
   "cell_type": "markdown",
   "metadata": {
    "ExecuteTime": {
     "end_time": "2016-09-10T00:00:27.242716",
     "start_time": "2016-09-10T00:00:27.062015"
    },
    "collapsed": false
   },
   "source": [
    "## Clean the data"
   ]
  },
  {
   "cell_type": "code",
   "execution_count": 9,
   "metadata": {
    "ExecuteTime": {
     "end_time": "2016-09-11T23:43:12.270985",
     "start_time": "2016-09-11T23:43:12.261004"
    },
    "collapsed": false
   },
   "outputs": [],
   "source": [
    "#concat all text fields into one\n",
    "df_articles['all_text'] = df_articles['headline'] + \" \" + \\\n",
    "                          df_articles['sub_headline'] + \" \" +\\\n",
    "                          df_articles['article_text']"
   ]
  },
  {
   "cell_type": "code",
   "execution_count": 10,
   "metadata": {
    "ExecuteTime": {
     "end_time": "2016-09-11T23:43:15.225980",
     "start_time": "2016-09-11T23:43:15.192123"
    },
    "collapsed": false
   },
   "outputs": [],
   "source": [
    "#clean the text, leave only alpha, num and space\n",
    "pattern = re.compile(u\"[^א-ת\\w\\d\\s]\")\n",
    "df_articles['all_text'] = df_articles.apply(lambda row: re.sub(pattern, \"\", row['all_text']), axis=1)"
   ]
  },
  {
   "cell_type": "markdown",
   "metadata": {},
   "source": [
    "## Explore the data "
   ]
  },
  {
   "cell_type": "markdown",
   "metadata": {},
   "source": [
    "### calculate word counts "
   ]
  },
  {
   "cell_type": "code",
   "execution_count": 11,
   "metadata": {
    "ExecuteTime": {
     "end_time": "2016-09-11T23:43:17.490978",
     "start_time": "2016-09-11T23:43:17.357176"
    },
    "collapsed": true
   },
   "outputs": [],
   "source": [
    "count_vectorizer = CountVectorizer()\n",
    "words_counts = count_vectorizer.fit_transform(df_articles['all_text'])"
   ]
  },
  {
   "cell_type": "code",
   "execution_count": 12,
   "metadata": {
    "ExecuteTime": {
     "end_time": "2016-09-11T23:43:18.081711",
     "start_time": "2016-09-11T23:43:18.042941"
    },
    "collapsed": false
   },
   "outputs": [],
   "source": [
    "df_words = pd.DataFrame(columns=['word','count'])\n",
    "df_words['word'] = count_vectorizer.get_feature_names()\n",
    "df_words['count'] = words_counts.sum(axis=0).A[0]"
   ]
  },
  {
   "cell_type": "code",
   "execution_count": 23,
   "metadata": {
    "ExecuteTime": {
     "end_time": "2016-09-11T23:58:47.851252",
     "start_time": "2016-09-11T23:58:47.801334"
    },
    "collapsed": false
   },
   "outputs": [
    {
     "data": {
      "text/html": [
       "<div>\n",
       "<table border=\"1\" class=\"dataframe\">\n",
       "  <thead>\n",
       "    <tr style=\"text-align: right;\">\n",
       "      <th></th>\n",
       "      <th>word</th>\n",
       "      <th>count</th>\n",
       "    </tr>\n",
       "  </thead>\n",
       "  <tbody>\n",
       "    <tr>\n",
       "      <th>655</th>\n",
       "      <td>את</td>\n",
       "      <td>717</td>\n",
       "    </tr>\n",
       "    <tr>\n",
       "      <th>11157</th>\n",
       "      <td>של</td>\n",
       "      <td>591</td>\n",
       "    </tr>\n",
       "    <tr>\n",
       "      <th>6494</th>\n",
       "      <td>לא</td>\n",
       "      <td>465</td>\n",
       "    </tr>\n",
       "    <tr>\n",
       "      <th>9744</th>\n",
       "      <td>על</td>\n",
       "      <td>382</td>\n",
       "    </tr>\n",
       "    <tr>\n",
       "      <th>6295</th>\n",
       "      <td>כי</td>\n",
       "      <td>298</td>\n",
       "    </tr>\n",
       "  </tbody>\n",
       "</table>\n",
       "</div>"
      ],
      "text/plain": [
       "      word  count\n",
       "655     את    717\n",
       "11157   של    591\n",
       "6494    לא    465\n",
       "9744    על    382\n",
       "6295    כי    298"
      ]
     },
     "execution_count": 23,
     "metadata": {},
     "output_type": "execute_result"
    }
   ],
   "source": [
    "df_words.sort_values(by='count', ascending=[False]).head()"
   ]
  },
  {
   "cell_type": "code",
   "execution_count": 14,
   "metadata": {
    "ExecuteTime": {
     "end_time": "2016-09-11T23:43:21.808691",
     "start_time": "2016-09-11T23:43:19.073799"
    },
    "collapsed": false
   },
   "outputs": [
    {
     "data": {
      "image/png": "[encoded data removed]",
      "text/plain": [
       "<matplotlib.figure.Figure at 0x1083349d0>"
      ]
     },
     "metadata": {},
     "output_type": "display_data"
    }
   ],
   "source": [
    "df_words['count'].plot(kind='hist', bins=xrange(700))\n",
    "plt.show()"
   ]
  },
  {
   "cell_type": "code",
   "execution_count": 15,
   "metadata": {
    "ExecuteTime": {
     "end_time": "2016-09-11T23:43:25.371057",
     "start_time": "2016-09-11T23:43:24.890159"
    },
    "collapsed": false,
    "scrolled": true
   },
   "outputs": [
    {
     "data": {
      "image/png": "[encoded data removed]",
      "text/plain": [
       "<matplotlib.figure.Figure at 0x108ae5a10>"
      ]
     },
     "metadata": {},
     "output_type": "display_data"
    }
   ],
   "source": [
    "df_words['count'].plot(kind='hist', bins=xrange(1,10))\n",
    "plt.show()"
   ]
  },
  {
   "cell_type": "markdown",
   "metadata": {},
   "source": [
    "##  Tf-idf, SVD"
   ]
  },
  {
   "cell_type": "code",
   "execution_count": 16,
   "metadata": {
    "ExecuteTime": {
     "end_time": "2016-09-11T23:43:33.097147",
     "start_time": "2016-09-11T23:43:33.092276"
    },
    "collapsed": false
   },
   "outputs": [],
   "source": [
    "tf_idf = TfidfVectorizer(min_df=1, max_df=9)"
   ]
  },
  {
   "cell_type": "code",
   "execution_count": 17,
   "metadata": {
    "ExecuteTime": {
     "end_time": "2016-09-11T23:43:33.668374",
     "start_time": "2016-09-11T23:43:33.416848"
    },
    "collapsed": false
   },
   "outputs": [],
   "source": [
    "tf_idf_vectors = tf_idf.fit_transform(df_articles['all_text'])"
   ]
  },
  {
   "cell_type": "code",
   "execution_count": 18,
   "metadata": {
    "ExecuteTime": {
     "end_time": "2016-09-11T23:43:33.730304",
     "start_time": "2016-09-11T23:43:33.725534"
    },
    "collapsed": true
   },
   "outputs": [],
   "source": [
    "svd = TruncatedSVD(n_components=30, n_iter=30, random_state=2016)"
   ]
  },
  {
   "cell_type": "code",
   "execution_count": 19,
   "metadata": {
    "ExecuteTime": {
     "end_time": "2016-09-11T23:43:34.264544",
     "start_time": "2016-09-11T23:43:34.018743"
    },
    "collapsed": false
   },
   "outputs": [],
   "source": [
    "tf_idf_vectors = svd.fit_transform(tf_idf_vectors)"
   ]
  },
  {
   "cell_type": "code",
   "execution_count": 20,
   "metadata": {
    "ExecuteTime": {
     "end_time": "2016-09-11T23:43:34.327496",
     "start_time": "2016-09-11T23:43:34.320904"
    },
    "collapsed": false
   },
   "outputs": [],
   "source": [
    "df_vectors = pd.DataFrame(tf_idf_vectors, columns=[\"tf_idf_\" +str(x) for x in xrange(tf_idf_vectors.shape[1])])"
   ]
  },
  {
   "cell_type": "code",
   "execution_count": 21,
   "metadata": {
    "ExecuteTime": {
     "end_time": "2016-09-11T23:43:34.641672",
     "start_time": "2016-09-11T23:43:34.635388"
    },
    "collapsed": false
   },
   "outputs": [],
   "source": [
    "df_vectors['headline'] = df_articles['headline']"
   ]
  },
  {
   "cell_type": "code",
   "execution_count": 22,
   "metadata": {
    "ExecuteTime": {
     "end_time": "2016-09-11T23:43:35.150797",
     "start_time": "2016-09-11T23:43:35.120910"
    },
    "collapsed": false
   },
   "outputs": [],
   "source": [
    "df_vectors.to_csv(r'../data/df_vectors.csv', encoding='utf8', index=False)"
   ]
  }
 ],
 "metadata": {
  "kernelspec": {
   "display_name": "Python 2",
   "language": "python",
   "name": "python2"
  },
  "language_info": {
   "codemirror_mode": {
    "name": "ipython",
    "version": 2
   },
   "file_extension": ".py",
   "mimetype": "text/x-python",
   "name": "python",
   "nbconvert_exporter": "python",
   "pygments_lexer": "ipython2",
   "version": "2.7.12"
  }
 },
 "nbformat": 4,
 "nbformat_minor": 1
}
