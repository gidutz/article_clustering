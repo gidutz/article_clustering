{
 "cells": [
  {
   "cell_type": "code",
   "execution_count": 1,
   "metadata": {
    "ExecuteTime": {
     "end_time": "2016-09-11T23:44:06.264729",
     "start_time": "2016-09-11T23:44:04.761202"
    },
    "collapsed": true
   },
   "outputs": [],
   "source": [
    "from sklearn.cluster import KMeans\n",
    "import pandas as pd"
   ]
  },
  {
   "cell_type": "code",
   "execution_count": 2,
   "metadata": {
    "ExecuteTime": {
     "end_time": "2016-09-11T23:44:06.277094",
     "start_time": "2016-09-11T23:44:06.266739"
    },
    "collapsed": false
   },
   "outputs": [],
   "source": [
    "df_vectors = pd.read_csv(r'../data/df_vectors.csv', encoding='utf8')"
   ]
  },
  {
   "cell_type": "code",
   "execution_count": 3,
   "metadata": {
    "ExecuteTime": {
     "end_time": "2016-09-11T23:44:06.285194",
     "start_time": "2016-09-11T23:44:06.279859"
    },
    "collapsed": false
   },
   "outputs": [],
   "source": [
    "features = df_vectors.columns.tolist()\n",
    "features.remove('headline')"
   ]
  },
  {
   "cell_type": "code",
   "execution_count": 4,
   "metadata": {
    "ExecuteTime": {
     "end_time": "2016-09-11T23:44:06.293092",
     "start_time": "2016-09-11T23:44:06.288039"
    },
    "collapsed": true
   },
   "outputs": [],
   "source": [
    "n_clusters = 10\n",
    "kmeans = KMeans(n_clusters=n_clusters, max_iter=1000, random_state=2017)"
   ]
  },
  {
   "cell_type": "code",
   "execution_count": 5,
   "metadata": {
    "ExecuteTime": {
     "end_time": "2016-09-11T23:44:06.356036",
     "start_time": "2016-09-11T23:44:06.296501"
    },
    "collapsed": false
   },
   "outputs": [],
   "source": [
    "kmeans.fit_transform(df_vectors[features])\n",
    "clusters = kmeans.predict(df_vectors[features])"
   ]
  },
  {
   "cell_type": "code",
   "execution_count": 6,
   "metadata": {
    "ExecuteTime": {
     "end_time": "2016-09-11T23:44:06.365319",
     "start_time": "2016-09-11T23:44:06.358990"
    },
    "collapsed": true
   },
   "outputs": [],
   "source": [
    "df_clusters = pd.DataFrame(columns=['headline', 'cluster'])"
   ]
  },
  {
   "cell_type": "code",
   "execution_count": 7,
   "metadata": {
    "ExecuteTime": {
     "end_time": "2016-09-11T23:44:06.377495",
     "start_time": "2016-09-11T23:44:06.368385"
    },
    "collapsed": true
   },
   "outputs": [],
   "source": [
    "df_clusters['headline'] = df_vectors['headline']\n",
    "df_clusters['cluster'] = clusters"
   ]
  },
  {
   "cell_type": "code",
   "execution_count": 9,
   "metadata": {
    "ExecuteTime": {
     "end_time": "2016-09-12T00:11:29.497253",
     "start_time": "2016-09-12T00:11:29.451051"
    },
    "collapsed": false
   },
   "outputs": [
    {
     "data": {
      "text/html": [
       "<div>\n",
       "<table border=\"1\" class=\"dataframe\">\n",
       "  <thead>\n",
       "    <tr style=\"text-align: right;\">\n",
       "      <th></th>\n",
       "      <th>headline</th>\n",
       "      <th>cluster</th>\n",
       "    </tr>\n",
       "  </thead>\n",
       "  <tbody>\n",
       "    <tr>\n",
       "      <th>6</th>\n",
       "      <td>נרות נשמה ופאבים סגורים: דיזנגוף אחרי הפיגוע</td>\n",
       "      <td>0</td>\n",
       "    </tr>\n",
       "    <tr>\n",
       "      <th>14</th>\n",
       "      <td>עיר עם הפסקה: גן הילדים אסף כסף למאבטח עם גז פלפל</td>\n",
       "      <td>0</td>\n",
       "    </tr>\n",
       "    <tr>\n",
       "      <th>19</th>\n",
       "      <td>חוזרים לשגרה: ב\"סימטא\" אוספים את השברים</td>\n",
       "      <td>0</td>\n",
       "    </tr>\n",
       "    <tr>\n",
       "      <th>29</th>\n",
       "      <td>המחבל ברמת אביב? התושבים חלוקים על הודעת ההרגע...</td>\n",
       "      <td>0</td>\n",
       "    </tr>\n",
       "    <tr>\n",
       "      <th>32</th>\n",
       "      <td>חוזרים לסימטא: \"מתחבקים כי עד עכשיו לא הספקנו\"</td>\n",
       "      <td>0</td>\n",
       "    </tr>\n",
       "  </tbody>\n",
       "</table>\n",
       "</div>"
      ],
      "text/plain": [
       "                                             headline  cluster\n",
       "6        נרות נשמה ופאבים סגורים: דיזנגוף אחרי הפיגוע        0\n",
       "14  עיר עם הפסקה: גן הילדים אסף כסף למאבטח עם גז פלפל        0\n",
       "19            חוזרים לשגרה: ב\"סימטא\" אוספים את השברים        0\n",
       "29  המחבל ברמת אביב? התושבים חלוקים על הודעת ההרגע...        0\n",
       "32    חוזרים לסימטא: \"מתחבקים כי עד עכשיו לא הספקנו\"         0"
      ]
     },
     "execution_count": 9,
     "metadata": {},
     "output_type": "execute_result"
    }
   ],
   "source": [
    "df_clusters[df_clusters['cluster']==0].head()"
   ]
  },
  {
   "cell_type": "code",
   "execution_count": null,
   "metadata": {
    "collapsed": true
   },
   "outputs": [],
   "source": []
  }
 ],
 "metadata": {
  "kernelspec": {
   "display_name": "Python 2",
   "language": "python",
   "name": "python2"
  },
  "language_info": {
   "codemirror_mode": {
    "name": "ipython",
    "version": 2
   },
   "file_extension": ".py",
   "mimetype": "text/x-python",
   "name": "python",
   "nbconvert_exporter": "python",
   "pygments_lexer": "ipython2",
   "version": "2.7.12"
  }
 },
 "nbformat": 4,
 "nbformat_minor": 1
}
